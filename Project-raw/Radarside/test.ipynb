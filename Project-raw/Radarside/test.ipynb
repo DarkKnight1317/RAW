{
 "cells": [
  {
   "cell_type": "code",
   "execution_count": 2,
   "metadata": {},
   "outputs": [],
   "source": [
    "import numpy as np\n",
    "from reader import *\n",
    "from process import *\n",
    "# from plot_range_profile import *"
   ]
  },
  {
   "cell_type": "code",
   "execution_count": 3,
   "metadata": {},
   "outputs": [],
   "source": [
    "import matplotlib.pyplot as plt\n",
    "from matplotlib.animation import FuncAnimation"
   ]
  },
  {
   "cell_type": "code",
   "execution_count": 20,
   "metadata": {},
   "outputs": [
    {
     "data": {
      "text/plain": [
       "(256, 128, 100)"
      ]
     },
     "execution_count": 20,
     "metadata": {},
     "output_type": "execute_result"
    }
   ],
   "source": [
    "radar = Process(filename='gps_data_1')\n",
    "radar.fft_1['r0'].shape"
   ]
  },
  {
   "cell_type": "code",
   "execution_count": 21,
   "metadata": {},
   "outputs": [
    {
     "name": "stdout",
     "output_type": "stream",
     "text": [
      "(256,)\n"
     ]
    },
    {
     "data": {
      "image/png": "[encoded data removed]",
      "text/plain": [
       "<Figure size 432x288 with 1 Axes>"
      ]
     },
     "metadata": {
      "needs_background": "light"
     },
     "output_type": "display_data"
    }
   ],
   "source": [
    "mat = np.sum(np.abs(radar.fft_1['r0'][:,:,50]), axis=1)\n",
    "print(mat.shape)\n",
    "\n",
    "plt.plot(mat)\n",
    "plt.show()\n"
   ]
  },
  {
   "cell_type": "code",
   "execution_count": 19,
   "metadata": {},
   "outputs": [
    {
     "name": "stdout",
     "output_type": "stream",
     "text": [
      "0.08719308035714286\n"
     ]
    }
   ],
   "source": [
    "c = 3 * (10 ** 8)\n",
    "# sample_rate = 10000\n",
    "sample_rate = 6250\n",
    "# frequency_slope = 29.0041\n",
    "frequency_slope = 42\n",
    "num_range_bins = 256\n",
    "range_factor = c * sample_rate * 1000 / (2 * frequency_slope * 10**12 * num_range_bins)\n",
    "print(range_factor)"
   ]
  },
  {
   "cell_type": "code",
   "execution_count": 22,
   "metadata": {},
   "outputs": [
    {
     "data": {
      "image/png": "[encoded data removed]",
      "text/plain": [
       "<Figure size 432x288 with 1 Axes>"
      ]
     },
     "metadata": {
      "needs_background": "light"
     },
     "output_type": "display_data"
    },
    {
     "name": "stderr",
     "output_type": "stream",
     "text": [
      "C:\\Users\\Bishal\\.conda\\envs\\torchenv\\lib\\site-packages\\matplotlib\\animation.py:890: UserWarning: Animation was deleted without rendering anything. This is most likely not intended. To prevent deletion, assign the Animation to a variable, e.g. `anim`, that exists until you have outputted the Animation using `plt.show()` or `anim.save()`.\n",
      "  'Animation was deleted without rendering anything. This is '\n"
     ]
    }
   ],
   "source": [
    "from test import estimate_range\n",
    "radars = [Process('gps_data_1.mat')]\n",
    "estimate_range(radars)"
   ]
  }
 ],
 "metadata": {
  "interpreter": {
   "hash": "c9838b7db8281b31f75ea4f78455566837ab81cae088087a0d108c65acbf0760"
  },
  "kernelspec": {
   "display_name": "Python 3.7.11 ('torchenv')",
   "language": "python",
   "name": "python3"
  },
  "language_info": {
   "codemirror_mode": {
    "name": "ipython",
    "version": 3
   },
   "file_extension": ".py",
   "mimetype": "text/x-python",
   "name": "python",
   "nbconvert_exporter": "python",
   "pygments_lexer": "ipython3",
   "version": "3.7.11"
  },
  "orig_nbformat": 4
 },
 "nbformat": 4,
 "nbformat_minor": 2
}
