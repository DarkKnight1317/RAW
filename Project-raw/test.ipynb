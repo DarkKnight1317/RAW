{
 "cells": [
  {
   "cell_type": "code",
   "execution_count": 1,
   "metadata": {},
   "outputs": [],
   "source": [
    "import numpy as np\n",
    "from reader import *\n",
    "from process import *\n",
    "from plot_range_profile import *"
   ]
  },
  {
   "cell_type": "code",
   "execution_count": 14,
   "metadata": {},
   "outputs": [],
   "source": [
    "import matplotlib.pyplot as plt\n",
    "from matplotlib.animation import FuncAnimation"
   ]
  },
  {
   "cell_type": "code",
   "execution_count": 6,
   "metadata": {},
   "outputs": [
    {
     "data": {
      "text/plain": [
       "(128, 256, 100)"
      ]
     },
     "execution_count": 6,
     "metadata": {},
     "output_type": "execute_result"
    }
   ],
   "source": [
    "radar = Process()\n",
    "radar.fft_1['r0'].shape"
   ]
  },
  {
   "cell_type": "code",
   "execution_count": 23,
   "metadata": {},
   "outputs": [
    {
     "data": {
      "text/plain": [
       "(256,)"
      ]
     },
     "execution_count": 23,
     "metadata": {},
     "output_type": "execute_result"
    }
   ],
   "source": [
    "mat = radar.fft_1['r0'][:,:,10]\n",
    "np.sum(mat, axis=0).shape\n"
   ]
  },
  {
   "cell_type": "code",
   "execution_count": 13,
   "metadata": {},
   "outputs": [
    {
     "data": {
      "image/png": "[encoded data removed]",
      "text/plain": [
       "<Figure size 432x288 with 1 Axes>"
      ]
     },
     "metadata": {
      "needs_background": "light"
     },
     "output_type": "display_data"
    }
   ],
   "source": [
    "mat = np.abs(np.array(radar.fft_1['r0']))\n",
    "plt.plot(mat[:,3,80])\n",
    "plt.show()"
   ]
  },
  {
   "cell_type": "code",
   "execution_count": 18,
   "metadata": {},
   "outputs": [],
   "source": [
    "def estimate_range(rx_index=0, chirp=0):\n",
    "    c = 3 * (10 ** 8)\n",
    "    sample_rate = 10000\n",
    "    frequency_slope = 29.0041\n",
    "    num_range_bins = 256\n",
    "    range_factor = c * sample_rate * 1000 / (2 * frequency_slope * 10**12 * num_range_bins)\n",
    "    # # \n",
    "    \n",
    "    def animate(frame):\n",
    "        ax.clear()\n",
    "        # y = np.abs(self.FFTcell[rx,:,chirp,frame])\n",
    "        mat = np.abs(np.array(radar.fft_1[f'r{rx_index}']))\n",
    "        y = np.abs(mat[chirp, :, frame])\n",
    "        x = np.arange(0, len(y), 1)\n",
    "        range_meter = x * range_factor\n",
    "        print(f\"frame={frame}\")\n",
    "        ax.set_xlim(0, 50)\n",
    "        ax.set_ylim(0, 20000)            \n",
    "        # ax.plot(10 * np.log(np.abs(self.FFTcell[rx,:,chirp,frame])))\n",
    "        ax.plot(range_meter, y)\n",
    "        ax.set_title(f'Range Estimation, frame:{frame}')\n",
    "        ax.set_xlabel('Samples')\n",
    "        ax.set_ylabel('Chirps')\n",
    "        ax.grid()\n",
    "    \n",
    "    fig, ax = plt.subplots()\n",
    "    ani = FuncAnimation(fig, animate, frames=100, interval=500, repeat=True)\n",
    "    plt.show()"
   ]
  },
  {
   "cell_type": "code",
   "execution_count": 20,
   "metadata": {},
   "outputs": [
    {
     "data": {
      "image/png": "[encoded data removed]",
      "text/plain": [
       "<Figure size 432x288 with 1 Axes>"
      ]
     },
     "metadata": {
      "needs_background": "light"
     },
     "output_type": "display_data"
    }
   ],
   "source": [
    "estimate_range(rx_index=0, chirp=0)"
   ]
  }
 ],
 "metadata": {
  "interpreter": {
   "hash": "c9838b7db8281b31f75ea4f78455566837ab81cae088087a0d108c65acbf0760"
  },
  "kernelspec": {
   "display_name": "Python 3.7.11 ('torchenv')",
   "language": "python",
   "name": "python3"
  },
  "language_info": {
   "codemirror_mode": {
    "name": "ipython",
    "version": 3
   },
   "file_extension": ".py",
   "mimetype": "text/x-python",
   "name": "python",
   "nbconvert_exporter": "python",
   "pygments_lexer": "ipython3",
   "version": "3.7.11"
  },
  "orig_nbformat": 4
 },
 "nbformat": 4,
 "nbformat_minor": 2
}
